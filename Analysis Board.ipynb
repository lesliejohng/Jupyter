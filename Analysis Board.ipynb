{
 "cells": [
  {
   "cell_type": "code",
   "execution_count": 3,
   "metadata": {},
   "outputs": [
    {
     "name": "stdout",
     "output_type": "stream",
     "text": [
      "(9, 17, 25, 33, 41, 49, 57, 18, 10, 19, 28, 37, 46, 55, 11, 2, 3, 4, 5, 6, 7, 0, 8, 16)\n"
     ]
    },
    {
     "data": {
      "text/plain": [
       "chess.Piece"
      ]
     },
     "execution_count": 3,
     "metadata": {},
     "output_type": "execute_result"
    }
   ],
   "source": [
    "import chess\n",
    "from chatty_chess import analysis_board\n",
    "\n",
    "CONNECTED_SQUARES = analysis_board.generateConnectedSquares()\n",
    "print(CONNECTED_SQUARES[1])\n",
    "board= chess.Board()\n",
    "type(board.piece_at(0))"
   ]
  },
  {
   "cell_type": "code",
   "execution_count": 10,
   "metadata": {},
   "outputs": [],
   "source": [
    "class AnalysisBoard(chess.Board):\n",
    "    \"\"\"I am a chess analysis board and inherit most of my\n",
    "    functionality from python chess.\n",
    "    \n",
    "    My purpose is to answer questions about the current position.\n",
    "    \n",
    "    An exaple is asking 'what pieces are on the board?'. This is\n",
    "    answered though the function:-\n",
    "        ql_pieces_on_board()\n",
    "    \n",
    "    I have used the initial letter to signify that the function is\n",
    "    a query about the position and the second to state the type of\n",
    "    return expected. In the above example (QL_pieces_on_board()) the\n",
    "    'Q' confirms that the function is a Query and the 'L' that the \n",
    "    query is designed to return a list.\n",
    "    \n",
    "    I may duplicate some of the features of Python Chess in this\n",
    "    class for the sake of clarity (or because I missed some of the\n",
    "    orignal library's features!)\"\"\"\n",
    "    \n",
    "    def __init__(self,fen='rnbqkbnr/pppppppp/8/8/8/8/PPPPPPPP/RNBQKBNR w KQkq - 0 1'):\n",
    "        self._starting_fen = fen\n",
    "        super().__init__(self._starting_fen)\n",
    "        \n",
    "    valueDictionary ={'K':1000,'Q':9,'R':5,'B':3,'N':3,'P':1,'k':-1000,'q':-9,'r':-5,'b':-3,'n':-3,'p':-1}\n",
    "    # is used by query functions\n",
    "    # The dictionary is in the format {piece(as a character):point value(as an integer)}\n",
    "    # I have taken the standard values and added a large value for the kings\n",
    "    \n",
    "    def takeValue(self,elem):\n",
    "        # this is used to sort pieces by value White pieces first, then Black pieces\n",
    "        value=elem[1]\n",
    "        if value > 0:\n",
    "            sortValue = value + 1000\n",
    "        else:\n",
    "            sortValue = abs(value)\n",
    "        return sortValue\n",
    "    \n",
    "    def ql_pieces_on_board(self):\n",
    "        # produces a sorted list of pieces on the board\n",
    "        # the return is a list where the elements are \n",
    "        #[piece(as a character),point value (as an integer) postion on board (as an integer)]\n",
    "        pieces = []\n",
    "        for sq in range(64):\n",
    "            if self.piece_at(sq) == None:\n",
    "                pass\n",
    "            else:\n",
    "                piece = str(self.piece_at(sq))\n",
    "                pieces.append([piece,self.valueDictionary[piece],sq])\n",
    "        pieces.sort(key=self.takeValue,reverse=True)\n",
    "        return pieces\n",
    "            \n",
    "    def qd_piece_count(self):\n",
    "        # this counts pieces on the board and places tham in a\n",
    "        # dictionary in the form {piece (as a charcter): count (a an interger)}\n",
    "        # I ignore Kings in this count\n",
    "        count = {'Q':0, 'R':0, 'B':0, 'N':0, 'P':0, 'q':0, 'r':0, 'b':0, 'n':0, 'p':0}\n",
    "        pieces = self.ql_pieces_on_board()\n",
    "        for piece in pieces:\n",
    "            if piece[0] in count:\n",
    "                ct = count[piece[0]] + 1\n",
    "                count[piece[0]] = ct\n",
    "        return count\n",
    "                \n",
    "    def qi_material_balance(self):\n",
    "        # I calculate material balance based on standard piece values\n",
    "        pieces = self.ql_pieces_on_board()\n",
    "        balance = 0\n",
    "        for piece in pieces:\n",
    "            balance = balance + piece[1]\n",
    "        return balance\n",
    "                \n",
    "    def qlb_light_dark_square_bishops(self):\n",
    "        # I return a list of boolians in the following\n",
    "        # format:\n",
    "        #  [(White light square Bishop) True/False\n",
    "        #   (White dark square Bishop)  True/False\n",
    "        #   (Black light square Bishop) True/False\n",
    "        #   (Black dark square Bishop)  True/False]\n",
    "        bishop_squares = [False, False, False, False]\n",
    "        pieces = self.ql_pieces_on_board()\n",
    "        for piece in pieces:\n",
    "            if piece[0] == 'B':\n",
    "                if piece[2] % 2 == 1:\n",
    "                    bishop_squares[0] = True\n",
    "                else:\n",
    "                    bishop_squares[1] = True\n",
    "            if piece[0] == 'b':\n",
    "                if piece[2] % 2 == 1:\n",
    "                    bishop_squares[2] = True\n",
    "                else:\n",
    "                    bishop_squares[3] = True\n",
    "        return bishop_squares\n",
    "            \n",
    "            \n",
    "    "
   ]
  },
  {
   "cell_type": "code",
   "execution_count": 12,
   "metadata": {},
   "outputs": [
    {
     "name": "stdout",
     "output_type": "stream",
     "text": [
      "[['K', 1000, 4], ['Q', 9, 3], ['R', 5, 0], ['R', 5, 7], ['N', 3, 1], ['B', 3, 2], ['B', 3, 5], ['N', 3, 6], ['P', 1, 8], ['P', 1, 9], ['P', 1, 10], ['P', 1, 11], ['P', 1, 12], ['P', 1, 13], ['P', 1, 14], ['P', 1, 15], ['k', -1000, 60], ['q', -9, 59], ['r', -5, 56], ['r', -5, 63], ['n', -3, 57], ['b', -3, 58], ['b', -3, 61], ['n', -3, 62], ['p', -1, 48], ['p', -1, 49], ['p', -1, 50], ['p', -1, 51], ['p', -1, 52], ['p', -1, 53], ['p', -1, 54], ['p', -1, 55]]\n",
      "\n",
      "{'Q': 1, 'R': 2, 'B': 2, 'N': 2, 'P': 8, 'q': 1, 'r': 2, 'b': 2, 'n': 2, 'p': 8}\n",
      "\n",
      "0\n",
      "\n",
      "[True, True, True, True]\n"
     ]
    }
   ],
   "source": [
    "board = AnalysisBoard()\n",
    "print(board.ql_pieces_on_board())\n",
    "print()\n",
    "print(board.qd_piece_count())\n",
    "print()\n",
    "print(board.qi_material_balance())\n",
    "print()\n",
    "print(board.qlb_light_dark_square_bishops())"
   ]
  },
  {
   "cell_type": "code",
   "execution_count": null,
   "metadata": {},
   "outputs": [],
   "source": []
  },
  {
   "cell_type": "code",
   "execution_count": null,
   "metadata": {},
   "outputs": [],
   "source": []
  }
 ],
 "metadata": {
  "kernelspec": {
   "display_name": "Python 3",
   "language": "python",
   "name": "python3"
  },
  "language_info": {
   "codemirror_mode": {
    "name": "ipython",
    "version": 3
   },
   "file_extension": ".py",
   "mimetype": "text/x-python",
   "name": "python",
   "nbconvert_exporter": "python",
   "pygments_lexer": "ipython3",
   "version": "3.7.4"
  }
 },
 "nbformat": 4,
 "nbformat_minor": 4
}
